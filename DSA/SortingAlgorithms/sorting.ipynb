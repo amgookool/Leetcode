{
 "cells": [
  {
   "cell_type": "code",
   "execution_count": 16,
   "metadata": {},
   "outputs": [],
   "source": [
    "import time\n",
    "\n",
    "def timer(func):\n",
    "    # Define the decorator function\n",
    "    def wrapper(*args, **kwargs):\n",
    "        start_time = time.time()  # Record the start time\n",
    "        result = func(*args, **kwargs)  # Execute the decorated function\n",
    "        end_time = time.time()  # Record the end time\n",
    "        print(f\"{func.__name__} took {end_time - start_time:.6f} seconds\")  # Print the execution time\n",
    "        return result  # Return the result of the function\n",
    "    return wrapper  # Return the wrapper function"
   ]
  },
  {
   "cell_type": "markdown",
   "metadata": {},
   "source": [
    "#### Sorting Algorithms\n",
    "\n",
    "Sorting is essential for organizing data efficiently, making it easier to search and process. Learn how they work, their performance, and when to use each.\n",
    "\n",
    "##### Algorithms Covered\n",
    "\n",
    "- Bubble Sort\n",
    "- Selection Sort\n",
    "- Insertion Sort\n",
    "- Merge Sort\n",
    "- Quick Sort\n",
    "- Heap Sort\n"
   ]
  },
  {
   "cell_type": "markdown",
   "metadata": {},
   "source": [
    "#### Bubble Sort\n",
    "Bubble sort is the simplest sorting algorithm that works be repeatedly swapping the adjacent elements if they are in the wrong order.\n",
    "This algorithm is not suitable for large datasets as its average and worst-case time complexity is quite high.\n",
    "In this algorithm:\n",
    "- Traverse from left and compare the adjacent elements and the higher one is placed at right side.\n",
    "- In this way, the largest element is moved to the rightmost end at first.\n",
    "- This process is then continued to find the second largest and place it and so on until the data is sorted.\n",
    "\n",
    "##### Complexity Analysis of Bubble Sort\n",
    "\n",
    "**Time Complexity**: $O(N^2)$\n",
    "\n",
    "**Space Complexity**: $O(1)$\n",
    "\n",
    "##### Advantages of Bubble Sort\n",
    "\n",
    "- Bubble sort is easy to understand and implement.\n",
    "\n",
    "- It does not require any additional memory space.\n",
    "\n",
    "- It is a stable sorting algorithm, meaning that elements with the same key value maintain their relative order in the sorted output.\n",
    "\n",
    "##### Disadvantages of Bubble Sort\n",
    "\n",
    "- Bubble sort has a time complexity of $O(N^2)$ which makes it very slow for large datasets.\n",
    "\n",
    "- Bubble sort is a comparison-based sorting algorithm \\, which means that it requires a comparison operator to determine the relative order of elements in the input data set. It can limit the efficiency of the algorithm in certain cases."
   ]
  },
  {
   "cell_type": "code",
   "execution_count": 35,
   "metadata": {},
   "outputs": [
    {
     "name": "stdout",
     "output_type": "stream",
     "text": [
      "Array to sort:  [398, 116, 104, 453, 161, 343, 471, 51, 124, 110]\n",
      "Performing swap on indexes 0 and 1 [116, 398, 104, 453, 161, 343, 471, 51, 124, 110]\n",
      "Performing swap on indexes 1 and 2 [116, 104, 398, 453, 161, 343, 471, 51, 124, 110]\n",
      "Performing swap on indexes 3 and 4 [116, 104, 398, 161, 453, 343, 471, 51, 124, 110]\n",
      "Performing swap on indexes 4 and 5 [116, 104, 398, 161, 343, 453, 471, 51, 124, 110]\n",
      "Performing swap on indexes 6 and 7 [116, 104, 398, 161, 343, 453, 51, 471, 124, 110]\n",
      "Performing swap on indexes 7 and 8 [116, 104, 398, 161, 343, 453, 51, 124, 471, 110]\n",
      "Performing swap on indexes 8 and 9 [116, 104, 398, 161, 343, 453, 51, 124, 110, 471]\n",
      "Performing swap on indexes 0 and 1 [104, 116, 398, 161, 343, 453, 51, 124, 110, 471]\n",
      "Performing swap on indexes 2 and 3 [104, 116, 161, 398, 343, 453, 51, 124, 110, 471]\n",
      "Performing swap on indexes 3 and 4 [104, 116, 161, 343, 398, 453, 51, 124, 110, 471]\n",
      "Performing swap on indexes 5 and 6 [104, 116, 161, 343, 398, 51, 453, 124, 110, 471]\n",
      "Performing swap on indexes 6 and 7 [104, 116, 161, 343, 398, 51, 124, 453, 110, 471]\n",
      "Performing swap on indexes 7 and 8 [104, 116, 161, 343, 398, 51, 124, 110, 453, 471]\n",
      "Performing swap on indexes 4 and 5 [104, 116, 161, 343, 51, 398, 124, 110, 453, 471]\n",
      "Performing swap on indexes 5 and 6 [104, 116, 161, 343, 51, 124, 398, 110, 453, 471]\n",
      "Performing swap on indexes 6 and 7 [104, 116, 161, 343, 51, 124, 110, 398, 453, 471]\n",
      "Performing swap on indexes 3 and 4 [104, 116, 161, 51, 343, 124, 110, 398, 453, 471]\n",
      "Performing swap on indexes 4 and 5 [104, 116, 161, 51, 124, 343, 110, 398, 453, 471]\n",
      "Performing swap on indexes 5 and 6 [104, 116, 161, 51, 124, 110, 343, 398, 453, 471]\n",
      "Performing swap on indexes 2 and 3 [104, 116, 51, 161, 124, 110, 343, 398, 453, 471]\n",
      "Performing swap on indexes 3 and 4 [104, 116, 51, 124, 161, 110, 343, 398, 453, 471]\n",
      "Performing swap on indexes 4 and 5 [104, 116, 51, 124, 110, 161, 343, 398, 453, 471]\n",
      "Performing swap on indexes 1 and 2 [104, 51, 116, 124, 110, 161, 343, 398, 453, 471]\n",
      "Performing swap on indexes 3 and 4 [104, 51, 116, 110, 124, 161, 343, 398, 453, 471]\n",
      "Performing swap on indexes 0 and 1 [51, 104, 116, 110, 124, 161, 343, 398, 453, 471]\n",
      "Performing swap on indexes 2 and 3 [51, 104, 110, 116, 124, 161, 343, 398, 453, 471]\n",
      "bubble_sort took 0.000855 seconds\n",
      "Bubble Sort:  [51, 104, 110, 116, 124, 161, 343, 398, 453, 471]\n"
     ]
    }
   ],
   "source": [
    "import random\n",
    "num_integers = 10\n",
    "min_num = 1\n",
    "max_num=500\n",
    "array1 = [random.randint(min_num, max_num) for _ in range(num_integers)]\n",
    "print(\"Array to sort: \", array1)\n",
    "\n",
    "@timer\n",
    "def bubble_sort(array:list):\n",
    "    n = len(array)\n",
    "    for i in range(n):\n",
    "        for j in range(n-1-i):\n",
    "            if array[j] > array[j+1]:\n",
    "                array[j], array[j+1] = array[j+1], array[j]\n",
    "                print(f'Performing swap on indexes {j} and {j+1}',array)\n",
    "    return array\n",
    "print(\"Bubble Sort: \", bubble_sort(array1))"
   ]
  },
  {
   "cell_type": "markdown",
   "metadata": {},
   "source": [
    "#### Selection Sort\n",
    "\n",
    "**Selection Sort** is a simple and efficient sorting algorithm that works by repeatedly selecting the smallest (or largest) element from the unsorted portion of the list and moving it the sorted portion of the list.\n",
    "\n",
    "The algorithm repeatedly selects the smallest (or largest) element from the unsorted portion of the list and swaps it with the first element of the unsorted part.\n",
    "\n",
    "This process is repeated for the remaining unsorted portion until the entire list is sorted.\n",
    "\n",
    "##### Complexity Analysis of Selection Sort\n",
    "\n",
    "**Time Complexity**: $O(n^2)$\n",
    "\n",
    "This is because there a two nested loops:\n",
    "     - One loop to select an element of the Array one by one = O(n)\n",
    "     - Another loop to compare that element with every other Array element = O(n)\n",
    "\n",
    "- Hence, overall Time Complexity:\n",
    "\n",
    "$$BigO = O(N) \\times O(N) = O(N \\times N) = O(N^2)$$\n",
    "\n",
    "**Space Complexity**: $O(1)$\n",
    "\n",
    "This is because the only extra memory used is for temporary variables while swapping two values in Array.\n",
    "\n",
    "The selection sort never makes more than $O(N)$ swaps and can be useful when memory writing is costly.\n",
    "\n",
    "##### Advantages of Selection Sort\n",
    "\n",
    "- Simple and Easy to understand\n",
    "- Works well with Small Datasets\n",
    "\n",
    "##### Disadvantages of Selection Sort\n",
    "\n",
    "- Selection sort has a time complexity of $O(n^2)$ in the worst and average case.\n",
    "- Does not work well on large datasets.\n",
    "- Does not preserve the relative order of items with equal keys, which means it is not stable.\n"
   ]
  },
  {
   "cell_type": "code",
   "execution_count": 34,
   "metadata": {},
   "outputs": [
    {
     "name": "stdout",
     "output_type": "stream",
     "text": [
      "Array to sort:  [190, 202, 373, 293, 96]\n",
      "array[min_index] 190 array[j] 202\n",
      "array[min_index] 190 array[j] 373\n",
      "array[min_index] 190 array[j] 293\n",
      "array[min_index] 190 array[j] 96\n",
      "Performing swap on indexes 0 and 4 [96, 202, 373, 293, 190]\n",
      "array[min_index] 202 array[j] 373\n",
      "array[min_index] 202 array[j] 293\n",
      "array[min_index] 202 array[j] 190\n",
      "Performing swap on indexes 1 and 4 [96, 190, 373, 293, 202]\n",
      "array[min_index] 373 array[j] 293\n",
      "array[min_index] 293 array[j] 202\n",
      "Performing swap on indexes 2 and 4 [96, 190, 202, 293, 373]\n",
      "array[min_index] 293 array[j] 373\n",
      "selection_sort took 0.000519 seconds\n",
      "Selection Sort:  [96, 190, 202, 293, 373]\n"
     ]
    }
   ],
   "source": [
    "import random\n",
    "\n",
    "num_integers = 5\n",
    "min_num = 1\n",
    "max_num = 500\n",
    "array1 = [random.randint(min_num, max_num) for _ in range(num_integers)]\n",
    "print(\"Array to sort: \", array1)\n",
    "\n",
    "\n",
    "@timer\n",
    "def selection_sort(array: list):\n",
    "    for i in range(len(array) - 1):\n",
    "        min_index = i  # Assume the minimum is the first element\n",
    "        for j in range(i + 1, len(array)):\n",
    "            print(\"array[min_index]\", array[min_index], \"array[j]\", array[j])\n",
    "            if array[j] < array[min_index]:\n",
    "                min_index = j  # Update the index of the minimum element\n",
    "        if min_index != i:\n",
    "            array[i], array[min_index] = array[min_index], array[i]  # Swap the found minimum element with the first element\n",
    "            print(f'Performing swap on indexes {i} and {min_index}', array)\n",
    "    return array\n",
    "\n",
    "print(\"Selection Sort: \", selection_sort(array1))"
   ]
  },
  {
   "cell_type": "markdown",
   "metadata": {},
   "source": [
    "#### Insertion Sort\n",
    "\n",
    "**Insertion Sort** is a simple sorting algorithm that works by iteratively inserting each elementof an unsorted list into its correct position in a sorted portion of the list. \n",
    "\n",
    "It is a **stable** sorting algorithm, meaning that elements with the same key value maintain their relative order in the sorted output.\n",
    "\n",
    "##### Complexity Analysis of Insertion Sort\n",
    "\n",
    "**Time Complexity**: $O(n^2)$\n",
    "\n",
    "**Space Complexity**: $O(1)$\n",
    "\n",
    "##### Advantages of Insertion Sort\n",
    "- Simple and easy to implement.\n",
    "- Stable sorting algorithm.\n",
    "- Efficient for small datasets and nearly sorted data.\n",
    "- Space efficient as it requires only a constant amount of additional memory.\n",
    "\n",
    "##### Disadvantages of Insertion Sort\n",
    "- Inefficient for large datasets.\n",
    "- Not as efficient as other sorting algorithms like quicksort, mergesort, or heapsort."
   ]
  },
  {
   "cell_type": "code",
   "execution_count": 36,
   "metadata": {},
   "outputs": [
    {
     "name": "stdout",
     "output_type": "stream",
     "text": [
      "Array to sort:  [41, 171, 211, 9, 88, 248, 203, 95, 92]\n",
      "Performing swap on indexes 0 to position 3 [9, 41, 171, 211, 88, 248, 203, 95, 92]\n",
      "Performing swap on indexes 2 to position 4 [9, 41, 88, 171, 211, 248, 203, 95, 92]\n",
      "Performing swap on indexes 4 to position 6 [9, 41, 88, 171, 203, 211, 248, 95, 92]\n",
      "Performing swap on indexes 3 to position 7 [9, 41, 88, 95, 171, 203, 211, 248, 92]\n",
      "Performing swap on indexes 3 to position 8 [9, 41, 88, 92, 95, 171, 203, 211, 248]\n",
      "insertion_sort took 0.000210 seconds\n",
      "Insertion Sort:  [9, 41, 88, 92, 95, 171, 203, 211, 248]\n"
     ]
    }
   ],
   "source": [
    "import random\n",
    "\n",
    "num_integers = 9\n",
    "min_num = 1\n",
    "max_num = 500\n",
    "array1 = [random.randint(min_num, max_num) for _ in range(num_integers)]\n",
    "print(\"Array to sort: \", array1)\n",
    "\n",
    "@timer\n",
    "def insertion_sort(array: list):\n",
    "    for i in range(1, len(array)):\n",
    "        key = array[i]\n",
    "        if array[i-1] > key:\n",
    "            j = i\n",
    "            # The 0th index is considered sorted, so we start at index 1\n",
    "            while j > 0 and array[j-1] > key:\n",
    "                array[j] = array[j-1]\n",
    "                j -= 1\n",
    "            array[j] = key\n",
    "            print(f'Performing swap on indexes {j} to position {i}',array)\n",
    "    return array\n",
    "\n",
    "print(\"Insertion Sort: \", insertion_sort(array1))"
   ]
  },
  {
   "cell_type": "markdown",
   "metadata": {},
   "source": [
    "#### Merge Sort\n",
    "\n",
    "##### Complexity Analysis of Merge Sort\n",
    "\n",
    "##### Advantages of Merge Sort\n",
    "\n",
    "##### Disadvantages of Merge Sort\n"
   ]
  },
  {
   "cell_type": "markdown",
   "metadata": {},
   "source": [
    "#### Quick Sort"
   ]
  },
  {
   "cell_type": "markdown",
   "metadata": {},
   "source": [
    "##m"
   ]
  },
  {
   "cell_type": "markdown",
   "metadata": {},
   "source": [
    "#### Heap Sort"
   ]
  }
 ],
 "metadata": {
  "kernelspec": {
   "display_name": ".venv",
   "language": "python",
   "name": "python3"
  },
  "language_info": {
   "codemirror_mode": {
    "name": "ipython",
    "version": 3
   },
   "file_extension": ".py",
   "mimetype": "text/x-python",
   "name": "python",
   "nbconvert_exporter": "python",
   "pygments_lexer": "ipython3",
   "version": "3.10.12"
  }
 },
 "nbformat": 4,
 "nbformat_minor": 2
}
